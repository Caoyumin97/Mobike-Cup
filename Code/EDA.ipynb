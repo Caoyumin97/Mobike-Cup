{
 "cells": [
  {
   "cell_type": "markdown",
   "metadata": {},
   "source": [
    "# Libraries"
   ]
  },
  {
   "cell_type": "code",
   "execution_count": 89,
   "metadata": {
    "ExecuteTime": {
     "end_time": "2020-02-27T10:51:08.889726Z",
     "start_time": "2020-02-27T10:51:08.881733Z"
    }
   },
   "outputs": [],
   "source": [
    "import os\n",
    "import re\n",
    "from collections import Counter\n",
    "import warnings\n",
    "warnings.filterwarnings(\"ignore\")\n",
    "\n",
    "import numpy as np\n",
    "import pandas as pd\n",
    "import matplotlib.pyplot as plt\n",
    "import seaborn as sns\n",
    "%matplotlib inline\n",
    "from geohash import decode_exactly as dec_exa_fn,decode as dec_fn\n",
    "from geopy.distance import great_circle\n",
    "from pyod.models.iforest import IForest\n",
    "\n",
    "from tensorflow.keras import Model\n",
    "from tensorflow.keras.layers import Input,Dense,Dropout,LeakyReLU as lrelu\n",
    "from tensorflow.keras.initializers import he_normal,constant\n",
    "from tensorflow.keras.losses import CategoricalCrossentropy\n",
    "from tensorflow.keras.optimizers import Adamax\n",
    "from tensorflow.keras.callbacks import ReduceLROnPlateau\n",
    "from tensorflow.keras.metrics import mae"
   ]
  },
  {
   "cell_type": "markdown",
   "metadata": {},
   "source": [
    "# Load Data"
   ]
  },
  {
   "cell_type": "code",
   "execution_count": 2,
   "metadata": {
    "ExecuteTime": {
     "end_time": "2020-02-27T09:55:25.515928Z",
     "start_time": "2020-02-27T09:55:22.533902Z"
    }
   },
   "outputs": [],
   "source": [
    "data = pd.read_csv('../Data/train.csv')"
   ]
  },
  {
   "cell_type": "code",
   "execution_count": 3,
   "metadata": {
    "ExecuteTime": {
     "end_time": "2020-02-27T09:59:50.662928Z",
     "start_time": "2020-02-27T09:55:28.030006Z"
    }
   },
   "outputs": [],
   "source": [
    "data['start_lat'] = data['geohashed_start_loc'].map(lambda x:dec_exa_fn(x)[0])\n",
    "data['start_lon'] = data['geohashed_start_loc'].map(lambda x:dec_exa_fn(x)[1])\n",
    "data['end_lat'] = data['geohashed_end_loc'].map(lambda x:dec_exa_fn(x)[0])\n",
    "data['end_lon'] = data['geohashed_end_loc'].map(lambda x:dec_exa_fn(x)[1])\n",
    "\n",
    "data['starttime'] = pd.to_datetime(data['starttime'])\n",
    "\n",
    "data['distance'] = data.apply(lambda x:great_circle((x['start_lat'],x['start_lon']),\n",
    "                                                    (x['end_lat'],x['end_lon'])).m,axis = 1)\n",
    "\n",
    "data.drop(['geohashed_start_loc','geohashed_end_loc'],axis = 1,inplace = True)"
   ]
  },
  {
   "cell_type": "code",
   "execution_count": 4,
   "metadata": {
    "ExecuteTime": {
     "end_time": "2020-02-27T09:59:54.889466Z",
     "start_time": "2020-02-27T09:59:54.875488Z"
    },
    "scrolled": false
   },
   "outputs": [
    {
     "data": {
      "text/html": [
       "<div>\n",
       "<style scoped>\n",
       "    .dataframe tbody tr th:only-of-type {\n",
       "        vertical-align: middle;\n",
       "    }\n",
       "\n",
       "    .dataframe tbody tr th {\n",
       "        vertical-align: top;\n",
       "    }\n",
       "\n",
       "    .dataframe thead th {\n",
       "        text-align: right;\n",
       "    }\n",
       "</style>\n",
       "<table border=\"1\" class=\"dataframe\">\n",
       "  <thead>\n",
       "    <tr style=\"text-align: right;\">\n",
       "      <th></th>\n",
       "      <th>orderid</th>\n",
       "      <th>userid</th>\n",
       "      <th>bikeid</th>\n",
       "      <th>biketype</th>\n",
       "      <th>starttime</th>\n",
       "      <th>start_lat</th>\n",
       "      <th>start_lon</th>\n",
       "      <th>end_lat</th>\n",
       "      <th>end_lon</th>\n",
       "      <th>distance</th>\n",
       "    </tr>\n",
       "  </thead>\n",
       "  <tbody>\n",
       "    <tr>\n",
       "      <th>0</th>\n",
       "      <td>1893973</td>\n",
       "      <td>451147</td>\n",
       "      <td>210617</td>\n",
       "      <td>2</td>\n",
       "      <td>2017-05-14 22:16:50</td>\n",
       "      <td>40.103531</td>\n",
       "      <td>116.289597</td>\n",
       "      <td>40.100784</td>\n",
       "      <td>116.286850</td>\n",
       "      <td>384.505061</td>\n",
       "    </tr>\n",
       "    <tr>\n",
       "      <th>1</th>\n",
       "      <td>4657992</td>\n",
       "      <td>1061133</td>\n",
       "      <td>465394</td>\n",
       "      <td>1</td>\n",
       "      <td>2017-05-14 22:16:52</td>\n",
       "      <td>39.790421</td>\n",
       "      <td>116.325302</td>\n",
       "      <td>39.797287</td>\n",
       "      <td>116.322556</td>\n",
       "      <td>798.762746</td>\n",
       "    </tr>\n",
       "    <tr>\n",
       "      <th>2</th>\n",
       "      <td>2965085</td>\n",
       "      <td>549189</td>\n",
       "      <td>310572</td>\n",
       "      <td>1</td>\n",
       "      <td>2017-05-14 22:16:51</td>\n",
       "      <td>39.882431</td>\n",
       "      <td>116.542282</td>\n",
       "      <td>39.875565</td>\n",
       "      <td>116.551895</td>\n",
       "      <td>1120.640282</td>\n",
       "    </tr>\n",
       "    <tr>\n",
       "      <th>3</th>\n",
       "      <td>4548579</td>\n",
       "      <td>489720</td>\n",
       "      <td>456688</td>\n",
       "      <td>1</td>\n",
       "      <td>2017-05-14 22:16:51</td>\n",
       "      <td>39.765701</td>\n",
       "      <td>116.163254</td>\n",
       "      <td>39.765701</td>\n",
       "      <td>116.161880</td>\n",
       "      <td>117.377853</td>\n",
       "    </tr>\n",
       "    <tr>\n",
       "      <th>4</th>\n",
       "      <td>3936364</td>\n",
       "      <td>467449</td>\n",
       "      <td>403224</td>\n",
       "      <td>1</td>\n",
       "      <td>2017-05-14 22:16:50</td>\n",
       "      <td>39.963455</td>\n",
       "      <td>116.388474</td>\n",
       "      <td>39.959335</td>\n",
       "      <td>116.381607</td>\n",
       "      <td>743.198674</td>\n",
       "    </tr>\n",
       "  </tbody>\n",
       "</table>\n",
       "</div>"
      ],
      "text/plain": [
       "   orderid   userid  bikeid  biketype           starttime  start_lat  \\\n",
       "0  1893973   451147  210617         2 2017-05-14 22:16:50  40.103531   \n",
       "1  4657992  1061133  465394         1 2017-05-14 22:16:52  39.790421   \n",
       "2  2965085   549189  310572         1 2017-05-14 22:16:51  39.882431   \n",
       "3  4548579   489720  456688         1 2017-05-14 22:16:51  39.765701   \n",
       "4  3936364   467449  403224         1 2017-05-14 22:16:50  39.963455   \n",
       "\n",
       "    start_lon    end_lat     end_lon     distance  \n",
       "0  116.289597  40.100784  116.286850   384.505061  \n",
       "1  116.325302  39.797287  116.322556   798.762746  \n",
       "2  116.542282  39.875565  116.551895  1120.640282  \n",
       "3  116.163254  39.765701  116.161880   117.377853  \n",
       "4  116.388474  39.959335  116.381607   743.198674  "
      ]
     },
     "execution_count": 4,
     "metadata": {},
     "output_type": "execute_result"
    }
   ],
   "source": [
    "data.head()"
   ]
  },
  {
   "cell_type": "markdown",
   "metadata": {},
   "source": [
    "# EDA"
   ]
  },
  {
   "cell_type": "code",
   "execution_count": 5,
   "metadata": {
    "ExecuteTime": {
     "end_time": "2020-02-27T10:00:40.621369Z",
     "start_time": "2020-02-27T10:00:37.794892Z"
    }
   },
   "outputs": [
    {
     "name": "stdout",
     "output_type": "stream",
     "text": [
      "# Dataset records: 3214096\n",
      "# Dataset users: 349693, rec/user: 9.19\n",
      "# Dataset bikes: 485465, rec/bike: 6.62\n",
      "# Dataset bike types: 2\n",
      "# Earliest record: 2017-05-10 00:00:09, latest record: 2017-05-24 19:00:16\n"
     ]
    }
   ],
   "source": [
    "orderID, userID = Counter(data['orderid']), Counter(data['userid'])\n",
    "bikeID, bikeType = Counter(data['bikeid']), Counter(data['biketype'])\n",
    "\n",
    "print('# Dataset records: {:d}'.format(len(orderID)))\n",
    "print('# Dataset users: {:d}, rec/user: {:.2f}'.format(len(userID),len(orderID)/len(userID)))\n",
    "print('# Dataset bikes: {:d}, rec/bike: {:.2f}'.format(len(bikeID),len(orderID)/len(bikeID)))\n",
    "print('# Dataset bike types: {:d}'.format(len(bikeType)))\n",
    "print('# Earliest record: {}, latest record: {}'.format(data['starttime'].min(),\n",
    "                                                        data['starttime'].max()))"
   ]
  },
  {
   "cell_type": "markdown",
   "metadata": {},
   "source": [
    "## start-time distribution"
   ]
  },
  {
   "cell_type": "code",
   "execution_count": 6,
   "metadata": {
    "ExecuteTime": {
     "end_time": "2020-02-27T10:00:58.875708Z",
     "start_time": "2020-02-27T10:00:47.050289Z"
    }
   },
   "outputs": [],
   "source": [
    "time_data = data[['userid','starttime','distance']]\n",
    "time_data['hour'] = time_data['starttime'].map(lambda x:x.hour)\n",
    "time_data['cont_time'] = time_data['starttime'].map(lambda x:x.hour * 60 + x.minute)"
   ]
  },
  {
   "cell_type": "code",
   "execution_count": 7,
   "metadata": {
    "ExecuteTime": {
     "end_time": "2020-02-27T10:01:01.469771Z",
     "start_time": "2020-02-27T10:01:00.669877Z"
    }
   },
   "outputs": [
    {
     "data": {
      "text/plain": [
       "Text(0, 0.5, 'Frequency')"
      ]
     },
     "execution_count": 7,
     "metadata": {},
     "output_type": "execute_result"
    },
    {
     "data": {
      "image/png": "[encoded data removed]",
      "text/plain": [
       "<Figure size 432x288 with 1 Axes>"
      ]
     },
     "metadata": {
      "needs_background": "light"
     },
     "output_type": "display_data"
    }
   ],
   "source": [
    "plt.rc('font',family = 'Times New Roman',size = 12)\n",
    "plt.bar(Counter(time_data['hour']).keys(),Counter(time_data['hour']).values(),alpha = 0.7)\n",
    "plt.xlim([-1,24])\n",
    "plt.xticks(np.arange(0,24,2),np.arange(1,25,2))\n",
    "plt.xlabel('Hour of Day')\n",
    "plt.ylabel('Frequency')"
   ]
  },
  {
   "cell_type": "markdown",
   "metadata": {},
   "source": [
    "## 3.2 distance distribution"
   ]
  },
  {
   "cell_type": "code",
   "execution_count": 8,
   "metadata": {
    "ExecuteTime": {
     "end_time": "2020-02-27T10:01:13.656329Z",
     "start_time": "2020-02-27T10:01:13.181486Z"
    }
   },
   "outputs": [],
   "source": [
    "distanceDict = Counter(\n",
    "    pd.cut(time_data['distance'],\n",
    "           [0, 200, 500, 1000, 2000, 3000, 5000, 8000, 10000, 20000, 50000],\n",
    "           labels=np.arange(0, 10)))\n",
    "time_data['distance_bins'] = pd.cut(\n",
    "    time_data['distance'],\n",
    "    [0, 200, 500, 1000, 2000, 3000, 5000, 8000, 10000, 20000, 50000],\n",
    "    labels=np.arange(0, 10))"
   ]
  },
  {
   "cell_type": "code",
   "execution_count": 9,
   "metadata": {
    "ExecuteTime": {
     "end_time": "2020-02-27T10:01:15.636920Z",
     "start_time": "2020-02-27T10:01:15.488318Z"
    }
   },
   "outputs": [
    {
     "data": {
      "text/plain": [
       "Text(0, 0.5, 'Frequency')"
      ]
     },
     "execution_count": 9,
     "metadata": {},
     "output_type": "execute_result"
    },
    {
     "data": {
      "image/png": "[encoded data removed]",
      "text/plain": [
       "<Figure size 432x288 with 1 Axes>"
      ]
     },
     "metadata": {
      "needs_background": "light"
     },
     "output_type": "display_data"
    }
   ],
   "source": [
    "plt.bar(distanceDict.keys(),distanceDict.values(),alpha = 0.7)\n",
    "xtiks = plt.xticks(np.arange(0,10))\n",
    "plt.xlabel('Distance Bins')\n",
    "plt.ylabel('Frequency')"
   ]
  },
  {
   "cell_type": "markdown",
   "metadata": {},
   "source": [
    "## cross"
   ]
  },
  {
   "cell_type": "code",
   "execution_count": 19,
   "metadata": {
    "ExecuteTime": {
     "end_time": "2020-02-27T10:03:25.839075Z",
     "start_time": "2020-02-27T10:03:24.898634Z"
    }
   },
   "outputs": [
    {
     "data": {
      "text/plain": [
       "<seaborn.axisgrid.JointGrid at 0x238d474d978>"
      ]
     },
     "execution_count": 19,
     "metadata": {},
     "output_type": "execute_result"
    },
    {
     "data": {
      "image/png": "[encoded data removed]",
      "text/plain": [
       "<Figure size 432x432 with 3 Axes>"
      ]
     },
     "metadata": {
      "needs_background": "light"
     },
     "output_type": "display_data"
    }
   ],
   "source": [
    "s = np.arange(0,len(time_data),40)\n",
    "sns.jointplot(time_data['cont_time'][s],\n",
    "              time_data['distance'][s],\n",
    "              color='b',\n",
    "              s=1,marker = '+')"
   ]
  },
  {
   "cell_type": "markdown",
   "metadata": {},
   "source": [
    "## outlier detection"
   ]
  },
  {
   "cell_type": "code",
   "execution_count": 93,
   "metadata": {
    "ExecuteTime": {
     "end_time": "2020-02-27T10:54:12.519034Z",
     "start_time": "2020-02-27T10:54:12.515045Z"
    },
    "scrolled": false
   },
   "outputs": [],
   "source": [
    "iforest_detector = IForest(n_estimators=20,\n",
    "                           max_samples=0.1,\n",
    "                           contamination=20 / len(time_data),\n",
    "                           max_features=2,behaviour='new',\n",
    "                           n_jobs=-1)"
   ]
  },
  {
   "cell_type": "code",
   "execution_count": 94,
   "metadata": {
    "ExecuteTime": {
     "end_time": "2020-02-27T10:55:23.268064Z",
     "start_time": "2020-02-27T10:54:14.485776Z"
    },
    "scrolled": false
   },
   "outputs": [],
   "source": [
    "idx_state = iforest_detector.fit_predict(time_data[['cont_time','distance']])"
   ]
  },
  {
   "cell_type": "code",
   "execution_count": 95,
   "metadata": {
    "ExecuteTime": {
     "end_time": "2020-02-27T10:57:05.173387Z",
     "start_time": "2020-02-27T10:57:05.122490Z"
    }
   },
   "outputs": [
    {
     "data": {
      "text/html": [
       "<div>\n",
       "<style scoped>\n",
       "    .dataframe tbody tr th:only-of-type {\n",
       "        vertical-align: middle;\n",
       "    }\n",
       "\n",
       "    .dataframe tbody tr th {\n",
       "        vertical-align: top;\n",
       "    }\n",
       "\n",
       "    .dataframe thead th {\n",
       "        text-align: right;\n",
       "    }\n",
       "</style>\n",
       "<table border=\"1\" class=\"dataframe\">\n",
       "  <thead>\n",
       "    <tr style=\"text-align: right;\">\n",
       "      <th></th>\n",
       "      <th>starttime</th>\n",
       "      <th>distance</th>\n",
       "    </tr>\n",
       "  </thead>\n",
       "  <tbody>\n",
       "    <tr>\n",
       "      <th>699</th>\n",
       "      <td>2017-05-14 22:23:06</td>\n",
       "      <td>25811.113092</td>\n",
       "    </tr>\n",
       "    <tr>\n",
       "      <th>100477</th>\n",
       "      <td>2017-05-16 00:45:42</td>\n",
       "      <td>15959.736113</td>\n",
       "    </tr>\n",
       "    <tr>\n",
       "      <th>176604</th>\n",
       "      <td>2017-05-10 19:00:23</td>\n",
       "      <td>22448.596039</td>\n",
       "    </tr>\n",
       "    <tr>\n",
       "      <th>324553</th>\n",
       "      <td>2017-05-10 18:06:16</td>\n",
       "      <td>26135.888006</td>\n",
       "    </tr>\n",
       "    <tr>\n",
       "      <th>479410</th>\n",
       "      <td>2017-05-11 09:59:34</td>\n",
       "      <td>34190.068398</td>\n",
       "    </tr>\n",
       "    <tr>\n",
       "      <th>599293</th>\n",
       "      <td>2017-05-11 23:19:40</td>\n",
       "      <td>17690.222269</td>\n",
       "    </tr>\n",
       "    <tr>\n",
       "      <th>784758</th>\n",
       "      <td>2017-05-12 18:13:42</td>\n",
       "      <td>23084.398322</td>\n",
       "    </tr>\n",
       "    <tr>\n",
       "      <th>856524</th>\n",
       "      <td>2017-05-12 13:03:05</td>\n",
       "      <td>23770.817404</td>\n",
       "    </tr>\n",
       "    <tr>\n",
       "      <th>912199</th>\n",
       "      <td>2017-05-12 21:13:23</td>\n",
       "      <td>20470.649136</td>\n",
       "    </tr>\n",
       "    <tr>\n",
       "      <th>918643</th>\n",
       "      <td>2017-05-12 20:02:09</td>\n",
       "      <td>24361.869862</td>\n",
       "    </tr>\n",
       "    <tr>\n",
       "      <th>986639</th>\n",
       "      <td>2017-05-13 12:13:31</td>\n",
       "      <td>30916.184808</td>\n",
       "    </tr>\n",
       "    <tr>\n",
       "      <th>1123294</th>\n",
       "      <td>2017-05-14 14:17:01</td>\n",
       "      <td>22144.744856</td>\n",
       "    </tr>\n",
       "    <tr>\n",
       "      <th>1133348</th>\n",
       "      <td>2017-05-13 20:26:58</td>\n",
       "      <td>22299.603342</td>\n",
       "    </tr>\n",
       "    <tr>\n",
       "      <th>1232388</th>\n",
       "      <td>2017-05-14 15:01:46</td>\n",
       "      <td>31746.034919</td>\n",
       "    </tr>\n",
       "    <tr>\n",
       "      <th>1304071</th>\n",
       "      <td>2017-05-14 18:08:59</td>\n",
       "      <td>28477.215422</td>\n",
       "    </tr>\n",
       "    <tr>\n",
       "      <th>1370008</th>\n",
       "      <td>2017-05-15 18:35:02</td>\n",
       "      <td>23787.943862</td>\n",
       "    </tr>\n",
       "    <tr>\n",
       "      <th>1395803</th>\n",
       "      <td>2017-05-15 06:46:20</td>\n",
       "      <td>21543.466935</td>\n",
       "    </tr>\n",
       "    <tr>\n",
       "      <th>1613062</th>\n",
       "      <td>2017-05-16 07:49:50</td>\n",
       "      <td>24603.135976</td>\n",
       "    </tr>\n",
       "    <tr>\n",
       "      <th>1911069</th>\n",
       "      <td>2017-05-22 23:43:04</td>\n",
       "      <td>44900.240662</td>\n",
       "    </tr>\n",
       "    <tr>\n",
       "      <th>2200122</th>\n",
       "      <td>2017-05-19 09:48:14</td>\n",
       "      <td>31393.661201</td>\n",
       "    </tr>\n",
       "  </tbody>\n",
       "</table>\n",
       "</div>"
      ],
      "text/plain": [
       "                  starttime      distance\n",
       "699     2017-05-14 22:23:06  25811.113092\n",
       "100477  2017-05-16 00:45:42  15959.736113\n",
       "176604  2017-05-10 19:00:23  22448.596039\n",
       "324553  2017-05-10 18:06:16  26135.888006\n",
       "479410  2017-05-11 09:59:34  34190.068398\n",
       "599293  2017-05-11 23:19:40  17690.222269\n",
       "784758  2017-05-12 18:13:42  23084.398322\n",
       "856524  2017-05-12 13:03:05  23770.817404\n",
       "912199  2017-05-12 21:13:23  20470.649136\n",
       "918643  2017-05-12 20:02:09  24361.869862\n",
       "986639  2017-05-13 12:13:31  30916.184808\n",
       "1123294 2017-05-14 14:17:01  22144.744856\n",
       "1133348 2017-05-13 20:26:58  22299.603342\n",
       "1232388 2017-05-14 15:01:46  31746.034919\n",
       "1304071 2017-05-14 18:08:59  28477.215422\n",
       "1370008 2017-05-15 18:35:02  23787.943862\n",
       "1395803 2017-05-15 06:46:20  21543.466935\n",
       "1613062 2017-05-16 07:49:50  24603.135976\n",
       "1911069 2017-05-22 23:43:04  44900.240662\n",
       "2200122 2017-05-19 09:48:14  31393.661201"
      ]
     },
     "execution_count": 95,
     "metadata": {},
     "output_type": "execute_result"
    }
   ],
   "source": [
    "time_data[['starttime','distance']].iloc[np.where(idx_state == 1)[0]]"
   ]
  },
  {
   "cell_type": "code",
   "execution_count": 96,
   "metadata": {
    "ExecuteTime": {
     "end_time": "2020-02-27T10:57:20.398077Z",
     "start_time": "2020-02-27T10:57:11.855911Z"
    }
   },
   "outputs": [
    {
     "data": {
      "text/plain": [
       "<matplotlib.collections.PathCollection at 0x238ec2bb320>"
      ]
     },
     "execution_count": 96,
     "metadata": {},
     "output_type": "execute_result"
    },
    {
     "data": {
      "image/png": "[encoded data removed]",
      "text/plain": [
       "<Figure size 432x288 with 1 Axes>"
      ]
     },
     "metadata": {
      "needs_background": "light"
     },
     "output_type": "display_data"
    }
   ],
   "source": [
    "ss = np.where(idx_state == 0)[0]\n",
    "sss = np.arange(0,len(ss),10)\n",
    "s = ss[sss]\n",
    "s1 = np.where(idx_state == 1)[0]\n",
    "plt.scatter(time_data['cont_time'][s],\n",
    "            time_data['distance'][s],\n",
    "            s=1,\n",
    "            c='',\n",
    "            edgecolors='b')\n",
    "plt.scatter(time_data['cont_time'][s1],\n",
    "            time_data['distance'][s1],\n",
    "            s=1,\n",
    "            c='',\n",
    "            marker = '*',\n",
    "            edgecolors='r')"
   ]
  },
  {
   "cell_type": "code",
   "execution_count": 97,
   "metadata": {
    "ExecuteTime": {
     "end_time": "2020-02-27T10:58:20.881329Z",
     "start_time": "2020-02-27T10:58:12.089873Z"
    }
   },
   "outputs": [
    {
     "data": {
      "text/plain": [
       "<matplotlib.collections.PathCollection at 0x2390ec92cf8>"
      ]
     },
     "execution_count": 97,
     "metadata": {},
     "output_type": "execute_result"
    },
    {
     "data": {
      "image/png": "[encoded data removed]",
      "text/plain": [
       "<Figure size 432x288 with 1 Axes>"
      ]
     },
     "metadata": {
      "needs_background": "light"
     },
     "output_type": "display_data"
    }
   ],
   "source": [
    "plt.scatter(time_data['cont_time'][s],\n",
    "            time_data['distance'][s],\n",
    "            s=1,\n",
    "            c='',\n",
    "            edgecolors='b')"
   ]
  }
 ],
 "metadata": {
  "hide_input": false,
  "kernelspec": {
   "display_name": "Python 3",
   "language": "python",
   "name": "python3"
  },
  "language_info": {
   "codemirror_mode": {
    "name": "ipython",
    "version": 3
   },
   "file_extension": ".py",
   "mimetype": "text/x-python",
   "name": "python",
   "nbconvert_exporter": "python",
   "pygments_lexer": "ipython3",
   "version": "3.6.4rc1"
  },
  "latex_envs": {
   "LaTeX_envs_menu_present": true,
   "autoclose": false,
   "autocomplete": true,
   "bibliofile": "biblio.bib",
   "cite_by": "apalike",
   "current_citInitial": 1,
   "eqLabelWithNumbers": true,
   "eqNumInitial": 1,
   "hotkeys": {
    "equation": "Ctrl-E",
    "itemize": "Ctrl-I"
   },
   "labels_anchors": false,
   "latex_user_defs": false,
   "report_style_numbering": false,
   "user_envs_cfg": false
  },
  "toc": {
   "base_numbering": 1,
   "nav_menu": {},
   "number_sections": true,
   "sideBar": true,
   "skip_h1_title": false,
   "title_cell": "Table of Contents",
   "title_sidebar": "Contents",
   "toc_cell": false,
   "toc_position": {},
   "toc_section_display": true,
   "toc_window_display": false
  },
  "varInspector": {
   "cols": {
    "lenName": 16,
    "lenType": 16,
    "lenVar": 40
   },
   "kernels_config": {
    "python": {
     "delete_cmd_postfix": "",
     "delete_cmd_prefix": "del ",
     "library": "var_list.py",
     "varRefreshCmd": "print(var_dic_list())"
    },
    "r": {
     "delete_cmd_postfix": ") ",
     "delete_cmd_prefix": "rm(",
     "library": "var_list.r",
     "varRefreshCmd": "cat(var_dic_list()) "
    }
   },
   "position": {
    "height": "144px",
    "left": "1158.4px",
    "right": "20px",
    "top": "93px",
    "width": "350px"
   },
   "types_to_exclude": [
    "module",
    "function",
    "builtin_function_or_method",
    "instance",
    "_Feature"
   ],
   "window_display": false
  }
 },
 "nbformat": 4,
 "nbformat_minor": 2
}
