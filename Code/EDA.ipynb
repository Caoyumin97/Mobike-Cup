{
 "cells": [
  {
   "cell_type": "markdown",
   "metadata": {},
   "source": [
    "# Libraries"
   ]
  },
  {
   "cell_type": "code",
   "execution_count": 2,
   "metadata": {
    "ExecuteTime": {
     "end_time": "2020-02-28T05:03:55.859954Z",
     "start_time": "2020-02-28T05:03:55.849418Z"
    }
   },
   "outputs": [],
   "source": [
    "import os\n",
    "import re\n",
    "from collections import Counter\n",
    "import warnings\n",
    "warnings.filterwarnings(\"ignore\")\n",
    "\n",
    "import numpy as np\n",
    "import pandas as pd\n",
    "import matplotlib.pyplot as plt\n",
    "import seaborn as sns\n",
    "%matplotlib inline\n",
    "from geohash import decode_exactly as dec_exa_fn,decode as dec_fn\n",
    "from geopy.distance import great_circle\n",
    "from pyod.models.iforest import IForest\n",
    "\n",
    "from tensorflow.keras import Model\n",
    "from tensorflow.keras.layers import Input,Dense,Dropout,LeakyReLU as lrelu\n",
    "from tensorflow.keras.initializers import he_normal,constant\n",
    "from tensorflow.keras.losses import CategoricalCrossentropy\n",
    "from tensorflow.keras.optimizers import Adamax\n",
    "from tensorflow.keras.callbacks import ReduceLROnPlateau\n",
    "from tensorflow.keras.metrics import mae"
   ]
  },
  {
   "cell_type": "markdown",
   "metadata": {},
   "source": [
    "# Load Data"
   ]
  },
  {
   "cell_type": "code",
   "execution_count": 3,
   "metadata": {
    "ExecuteTime": {
     "end_time": "2020-02-28T05:03:59.258166Z",
     "start_time": "2020-02-28T05:03:55.896002Z"
    }
   },
   "outputs": [],
   "source": [
    "data = pd.read_csv('../Data/train.csv')"
   ]
  },
  {
   "cell_type": "code",
   "execution_count": 4,
   "metadata": {
    "ExecuteTime": {
     "end_time": "2020-02-28T05:08:26.419193Z",
     "start_time": "2020-02-28T05:03:59.260157Z"
    }
   },
   "outputs": [],
   "source": [
    "data['start_lat'] = data['geohashed_start_loc'].map(lambda x:dec_exa_fn(x)[0])\n",
    "data['start_lon'] = data['geohashed_start_loc'].map(lambda x:dec_exa_fn(x)[1])\n",
    "data['end_lat'] = data['geohashed_end_loc'].map(lambda x:dec_exa_fn(x)[0])\n",
    "data['end_lon'] = data['geohashed_end_loc'].map(lambda x:dec_exa_fn(x)[1])\n",
    "\n",
    "data['starttime'] = pd.to_datetime(data['starttime'])\n",
    "\n",
    "data['distance'] = data.apply(lambda x:great_circle((x['start_lat'],x['start_lon']),\n",
    "                                                    (x['end_lat'],x['end_lon'])).m,axis = 1)\n",
    "\n",
    "data.drop(['geohashed_start_loc','geohashed_end_loc'],axis = 1,inplace = True)\n",
    "\n",
    "data['hour'] = data['starttime'].map(lambda x:x.hour)"
   ]
  },
  {
   "cell_type": "code",
   "execution_count": 42,
   "metadata": {
    "ExecuteTime": {
     "end_time": "2020-02-28T07:10:37.128998Z",
     "start_time": "2020-02-28T07:10:37.118035Z"
    },
    "scrolled": false
   },
   "outputs": [
    {
     "data": {
      "text/html": [
       "<div>\n",
       "<style scoped>\n",
       "    .dataframe tbody tr th:only-of-type {\n",
       "        vertical-align: middle;\n",
       "    }\n",
       "\n",
       "    .dataframe tbody tr th {\n",
       "        vertical-align: top;\n",
       "    }\n",
       "\n",
       "    .dataframe thead th {\n",
       "        text-align: right;\n",
       "    }\n",
       "</style>\n",
       "<table border=\"1\" class=\"dataframe\">\n",
       "  <thead>\n",
       "    <tr style=\"text-align: right;\">\n",
       "      <th></th>\n",
       "      <th>orderid</th>\n",
       "      <th>userid</th>\n",
       "      <th>bikeid</th>\n",
       "      <th>biketype</th>\n",
       "      <th>starttime</th>\n",
       "      <th>start_lat</th>\n",
       "      <th>start_lon</th>\n",
       "      <th>end_lat</th>\n",
       "      <th>end_lon</th>\n",
       "      <th>distance</th>\n",
       "      <th>hour</th>\n",
       "    </tr>\n",
       "  </thead>\n",
       "  <tbody>\n",
       "    <tr>\n",
       "      <th>0</th>\n",
       "      <td>1893973</td>\n",
       "      <td>451147</td>\n",
       "      <td>210617</td>\n",
       "      <td>2</td>\n",
       "      <td>2017-05-14 22:16:50</td>\n",
       "      <td>40.103531</td>\n",
       "      <td>116.289597</td>\n",
       "      <td>40.100784</td>\n",
       "      <td>116.286850</td>\n",
       "      <td>384.505061</td>\n",
       "      <td>22</td>\n",
       "    </tr>\n",
       "    <tr>\n",
       "      <th>1</th>\n",
       "      <td>4657992</td>\n",
       "      <td>1061133</td>\n",
       "      <td>465394</td>\n",
       "      <td>1</td>\n",
       "      <td>2017-05-14 22:16:52</td>\n",
       "      <td>39.790421</td>\n",
       "      <td>116.325302</td>\n",
       "      <td>39.797287</td>\n",
       "      <td>116.322556</td>\n",
       "      <td>798.762746</td>\n",
       "      <td>22</td>\n",
       "    </tr>\n",
       "    <tr>\n",
       "      <th>2</th>\n",
       "      <td>2965085</td>\n",
       "      <td>549189</td>\n",
       "      <td>310572</td>\n",
       "      <td>1</td>\n",
       "      <td>2017-05-14 22:16:51</td>\n",
       "      <td>39.882431</td>\n",
       "      <td>116.542282</td>\n",
       "      <td>39.875565</td>\n",
       "      <td>116.551895</td>\n",
       "      <td>1120.640282</td>\n",
       "      <td>22</td>\n",
       "    </tr>\n",
       "    <tr>\n",
       "      <th>3</th>\n",
       "      <td>4548579</td>\n",
       "      <td>489720</td>\n",
       "      <td>456688</td>\n",
       "      <td>1</td>\n",
       "      <td>2017-05-14 22:16:51</td>\n",
       "      <td>39.765701</td>\n",
       "      <td>116.163254</td>\n",
       "      <td>39.765701</td>\n",
       "      <td>116.161880</td>\n",
       "      <td>117.377853</td>\n",
       "      <td>22</td>\n",
       "    </tr>\n",
       "    <tr>\n",
       "      <th>4</th>\n",
       "      <td>3936364</td>\n",
       "      <td>467449</td>\n",
       "      <td>403224</td>\n",
       "      <td>1</td>\n",
       "      <td>2017-05-14 22:16:50</td>\n",
       "      <td>39.963455</td>\n",
       "      <td>116.388474</td>\n",
       "      <td>39.959335</td>\n",
       "      <td>116.381607</td>\n",
       "      <td>743.198674</td>\n",
       "      <td>22</td>\n",
       "    </tr>\n",
       "  </tbody>\n",
       "</table>\n",
       "</div>"
      ],
      "text/plain": [
       "   orderid   userid  bikeid  biketype           starttime  start_lat  \\\n",
       "0  1893973   451147  210617         2 2017-05-14 22:16:50  40.103531   \n",
       "1  4657992  1061133  465394         1 2017-05-14 22:16:52  39.790421   \n",
       "2  2965085   549189  310572         1 2017-05-14 22:16:51  39.882431   \n",
       "3  4548579   489720  456688         1 2017-05-14 22:16:51  39.765701   \n",
       "4  3936364   467449  403224         1 2017-05-14 22:16:50  39.963455   \n",
       "\n",
       "    start_lon    end_lat     end_lon     distance  hour  \n",
       "0  116.289597  40.100784  116.286850   384.505061    22  \n",
       "1  116.325302  39.797287  116.322556   798.762746    22  \n",
       "2  116.542282  39.875565  116.551895  1120.640282    22  \n",
       "3  116.163254  39.765701  116.161880   117.377853    22  \n",
       "4  116.388474  39.959335  116.381607   743.198674    22  "
      ]
     },
     "execution_count": 42,
     "metadata": {},
     "output_type": "execute_result"
    }
   ],
   "source": [
    "data.head()"
   ]
  },
  {
   "cell_type": "markdown",
   "metadata": {},
   "source": [
    "# EDA"
   ]
  },
  {
   "cell_type": "code",
   "execution_count": 6,
   "metadata": {
    "ExecuteTime": {
     "end_time": "2020-02-28T05:08:29.512910Z",
     "start_time": "2020-02-28T05:08:26.440073Z"
    }
   },
   "outputs": [
    {
     "name": "stdout",
     "output_type": "stream",
     "text": [
      "# Dataset records: 3214096\n",
      "# Dataset users: 349693, rec/user: 9.19\n",
      "# Dataset bikes: 485465, rec/bike: 6.62\n",
      "# Dataset bike types: 2\n",
      "# Earliest record: 2017-05-10 00:00:09, latest record: 2017-05-24 19:00:16\n"
     ]
    }
   ],
   "source": [
    "orderID, userID = Counter(data['orderid']), Counter(data['userid'])\n",
    "bikeID, bikeType = Counter(data['bikeid']), Counter(data['biketype'])\n",
    "\n",
    "print('# Dataset records: {:d}'.format(len(orderID)))\n",
    "print('# Dataset users: {:d}, rec/user: {:.2f}'.format(len(userID),len(orderID)/len(userID)))\n",
    "print('# Dataset bikes: {:d}, rec/bike: {:.2f}'.format(len(bikeID),len(orderID)/len(bikeID)))\n",
    "print('# Dataset bike types: {:d}'.format(len(bikeType)))\n",
    "print('# Earliest record: {}, latest record: {}'.format(data['starttime'].min(),\n",
    "                                                        data['starttime'].max()))"
   ]
  },
  {
   "cell_type": "markdown",
   "metadata": {},
   "source": [
    "## start-time distribution"
   ]
  },
  {
   "cell_type": "code",
   "execution_count": 7,
   "metadata": {
    "ExecuteTime": {
     "end_time": "2020-02-28T05:08:41.618524Z",
     "start_time": "2020-02-28T05:08:29.513855Z"
    }
   },
   "outputs": [],
   "source": [
    "time_data = data[['userid','starttime','distance']]\n",
    "time_data['hour'] = time_data['starttime'].map(lambda x:x.hour)\n",
    "time_data['cont_time'] = time_data['starttime'].map(lambda x:x.hour * 60 + x.minute)"
   ]
  },
  {
   "cell_type": "code",
   "execution_count": 8,
   "metadata": {
    "ExecuteTime": {
     "end_time": "2020-02-28T05:08:42.460241Z",
     "start_time": "2020-02-28T05:08:41.619521Z"
    }
   },
   "outputs": [
    {
     "data": {
      "text/plain": [
       "Text(0, 0.5, 'Frequency')"
      ]
     },
     "execution_count": 8,
     "metadata": {},
     "output_type": "execute_result"
    },
    {
     "data": {
      "image/png": "[encoded data removed]",
      "text/plain": [
       "<Figure size 432x288 with 1 Axes>"
      ]
     },
     "metadata": {
      "needs_background": "light"
     },
     "output_type": "display_data"
    }
   ],
   "source": [
    "plt.rc('font',family = 'Times New Roman',size = 12)\n",
    "plt.bar(Counter(time_data['hour']).keys(),Counter(time_data['hour']).values(),alpha = 0.7)\n",
    "plt.xlim([-1,24])\n",
    "plt.xticks(np.arange(0,24,2),np.arange(1,25,2))\n",
    "plt.xlabel('Hour of Day')\n",
    "plt.ylabel('Frequency')"
   ]
  },
  {
   "cell_type": "markdown",
   "metadata": {},
   "source": [
    "## distance distribution"
   ]
  },
  {
   "cell_type": "code",
   "execution_count": 9,
   "metadata": {
    "ExecuteTime": {
     "end_time": "2020-02-28T05:08:42.988828Z",
     "start_time": "2020-02-28T05:08:42.461237Z"
    }
   },
   "outputs": [],
   "source": [
    "distanceDict = Counter(\n",
    "    pd.cut(time_data['distance'],\n",
    "           [0, 200, 500, 1000, 2000, 3000, 5000, 8000, 10000, 20000, 50000],\n",
    "           labels=np.arange(0, 10)))\n",
    "time_data['distance_bins'] = pd.cut(\n",
    "    time_data['distance'],\n",
    "    [0, 200, 500, 1000, 2000, 3000, 5000, 8000, 10000, 20000, 50000],\n",
    "    labels=np.arange(0, 10))"
   ]
  },
  {
   "cell_type": "code",
   "execution_count": 10,
   "metadata": {
    "ExecuteTime": {
     "end_time": "2020-02-28T05:08:43.136476Z",
     "start_time": "2020-02-28T05:08:42.990857Z"
    }
   },
   "outputs": [
    {
     "data": {
      "text/plain": [
       "Text(0, 0.5, 'Frequency')"
      ]
     },
     "execution_count": 10,
     "metadata": {},
     "output_type": "execute_result"
    },
    {
     "data": {
      "image/png": "[encoded data removed]",
      "text/plain": [
       "<Figure size 432x288 with 1 Axes>"
      ]
     },
     "metadata": {
      "needs_background": "light"
     },
     "output_type": "display_data"
    }
   ],
   "source": [
    "plt.bar(distanceDict.keys(),distanceDict.values(),alpha = 0.7)\n",
    "xtiks = plt.xticks(np.arange(0,10))\n",
    "plt.xlabel('Distance Bins')\n",
    "plt.ylabel('Frequency')"
   ]
  },
  {
   "cell_type": "markdown",
   "metadata": {},
   "source": [
    "## cross"
   ]
  },
  {
   "cell_type": "code",
   "execution_count": 11,
   "metadata": {
    "ExecuteTime": {
     "end_time": "2020-02-28T05:08:44.239484Z",
     "start_time": "2020-02-28T05:08:43.137430Z"
    }
   },
   "outputs": [
    {
     "data": {
      "text/plain": [
       "<seaborn.axisgrid.JointGrid at 0x23710632390>"
      ]
     },
     "execution_count": 11,
     "metadata": {},
     "output_type": "execute_result"
    },
    {
     "data": {
      "image/png": "[encoded data removed]",
      "text/plain": [
       "<Figure size 432x432 with 3 Axes>"
      ]
     },
     "metadata": {
      "needs_background": "light"
     },
     "output_type": "display_data"
    }
   ],
   "source": [
    "s = np.arange(0,len(time_data),40)\n",
    "sns.jointplot(time_data['cont_time'][s],\n",
    "              time_data['distance'][s],\n",
    "              color='b',\n",
    "              s=1,marker = '+')"
   ]
  },
  {
   "cell_type": "markdown",
   "metadata": {},
   "source": [
    "## outlier detection"
   ]
  },
  {
   "cell_type": "code",
   "execution_count": 25,
   "metadata": {
    "ExecuteTime": {
     "end_time": "2020-02-28T06:00:50.442794Z",
     "start_time": "2020-02-28T05:59:45.076512Z"
    },
    "scrolled": false
   },
   "outputs": [],
   "source": [
    "iforest_detector = IForest(n_estimators=20,\n",
    "                           max_samples=0.1,\n",
    "                           contamination=100 / len(time_data),\n",
    "                           max_features=2,behaviour='new',\n",
    "                           n_jobs=-1)\n",
    "\n",
    "idx_state = iforest_detector.fit_predict(time_data[['cont_time','distance']])"
   ]
  },
  {
   "cell_type": "code",
   "execution_count": 26,
   "metadata": {
    "ExecuteTime": {
     "end_time": "2020-02-28T06:01:00.658431Z",
     "start_time": "2020-02-28T06:00:52.248914Z"
    }
   },
   "outputs": [
    {
     "data": {
      "text/plain": [
       "<matplotlib.collections.PathCollection at 0x2376c6b6d30>"
      ]
     },
     "execution_count": 26,
     "metadata": {},
     "output_type": "execute_result"
    },
    {
     "data": {
      "image/png": "[encoded data removed]",
      "text/plain": [
       "<Figure size 432x288 with 1 Axes>"
      ]
     },
     "metadata": {
      "needs_background": "light"
     },
     "output_type": "display_data"
    }
   ],
   "source": [
    "ss = np.where(idx_state == 0)[0]\n",
    "sss = np.arange(0,len(ss),10)\n",
    "s = ss[sss]\n",
    "s1 = np.where(idx_state == 1)[0]\n",
    "plt.scatter(time_data['cont_time'][s],\n",
    "            time_data['distance'][s],\n",
    "            s=1,\n",
    "            c='',\n",
    "            edgecolors='b')\n",
    "plt.scatter(time_data['cont_time'][s1],\n",
    "            time_data['distance'][s1],\n",
    "            s=1,\n",
    "            c='',\n",
    "            marker = '*',\n",
    "            edgecolors='r')"
   ]
  },
  {
   "cell_type": "markdown",
   "metadata": {
    "ExecuteTime": {
     "end_time": "2020-02-28T07:02:46.577715Z",
     "start_time": "2020-02-28T07:02:46.573706Z"
    }
   },
   "source": [
    "## bike type distribution"
   ]
  },
  {
   "cell_type": "code",
   "execution_count": 37,
   "metadata": {
    "ExecuteTime": {
     "end_time": "2020-02-28T07:02:20.241012Z",
     "start_time": "2020-02-28T07:02:19.055184Z"
    }
   },
   "outputs": [
    {
     "data": {
      "text/plain": [
       "Text(0, 0.5, 'Frequency')"
      ]
     },
     "execution_count": 37,
     "metadata": {},
     "output_type": "execute_result"
    },
    {
     "data": {
      "image/png": "[encoded data removed]",
      "text/plain": [
       "<Figure size 432x288 with 1 Axes>"
      ]
     },
     "metadata": {
      "needs_background": "light"
     },
     "output_type": "display_data"
    }
   ],
   "source": [
    "plt.bar(['1', '2'],\n",
    "        data.iloc[ss, :].pivot_table(index='userid',\n",
    "                                     columns='biketype',\n",
    "                                     values='distance',\n",
    "                                     aggfunc='count').fillna(0).sum())\n",
    "plt.xlabel('Bike Type')\n",
    "plt.ylabel('Frequency')"
   ]
  },
  {
   "cell_type": "code",
   "execution_count": 50,
   "metadata": {
    "ExecuteTime": {
     "end_time": "2020-02-28T07:15:32.306040Z",
     "start_time": "2020-02-28T07:15:30.530822Z"
    }
   },
   "outputs": [
    {
     "data": {
      "text/html": [
       "<div>\n",
       "<style scoped>\n",
       "    .dataframe tbody tr th:only-of-type {\n",
       "        vertical-align: middle;\n",
       "    }\n",
       "\n",
       "    .dataframe tbody tr th {\n",
       "        vertical-align: top;\n",
       "    }\n",
       "\n",
       "    .dataframe thead th {\n",
       "        text-align: right;\n",
       "    }\n",
       "</style>\n",
       "<table border=\"1\" class=\"dataframe\">\n",
       "  <thead>\n",
       "    <tr style=\"text-align: right;\">\n",
       "      <th></th>\n",
       "      <th>distance</th>\n",
       "    </tr>\n",
       "    <tr>\n",
       "      <th>userid</th>\n",
       "      <th></th>\n",
       "    </tr>\n",
       "  </thead>\n",
       "  <tbody>\n",
       "    <tr>\n",
       "      <th>1</th>\n",
       "      <td>13</td>\n",
       "    </tr>\n",
       "    <tr>\n",
       "      <th>2</th>\n",
       "      <td>2</td>\n",
       "    </tr>\n",
       "    <tr>\n",
       "      <th>3</th>\n",
       "      <td>19</td>\n",
       "    </tr>\n",
       "    <tr>\n",
       "      <th>5</th>\n",
       "      <td>11</td>\n",
       "    </tr>\n",
       "    <tr>\n",
       "      <th>9</th>\n",
       "      <td>8</td>\n",
       "    </tr>\n",
       "    <tr>\n",
       "      <th>10</th>\n",
       "      <td>5</td>\n",
       "    </tr>\n",
       "    <tr>\n",
       "      <th>13</th>\n",
       "      <td>13</td>\n",
       "    </tr>\n",
       "    <tr>\n",
       "      <th>14</th>\n",
       "      <td>3</td>\n",
       "    </tr>\n",
       "    <tr>\n",
       "      <th>15</th>\n",
       "      <td>1</td>\n",
       "    </tr>\n",
       "    <tr>\n",
       "      <th>17</th>\n",
       "      <td>10</td>\n",
       "    </tr>\n",
       "    <tr>\n",
       "      <th>26</th>\n",
       "      <td>9</td>\n",
       "    </tr>\n",
       "    <tr>\n",
       "      <th>32</th>\n",
       "      <td>40</td>\n",
       "    </tr>\n",
       "    <tr>\n",
       "      <th>33</th>\n",
       "      <td>48</td>\n",
       "    </tr>\n",
       "    <tr>\n",
       "      <th>34</th>\n",
       "      <td>9</td>\n",
       "    </tr>\n",
       "    <tr>\n",
       "      <th>38</th>\n",
       "      <td>19</td>\n",
       "    </tr>\n",
       "    <tr>\n",
       "      <th>43</th>\n",
       "      <td>1</td>\n",
       "    </tr>\n",
       "    <tr>\n",
       "      <th>46</th>\n",
       "      <td>2</td>\n",
       "    </tr>\n",
       "    <tr>\n",
       "      <th>48</th>\n",
       "      <td>9</td>\n",
       "    </tr>\n",
       "    <tr>\n",
       "      <th>52</th>\n",
       "      <td>3</td>\n",
       "    </tr>\n",
       "    <tr>\n",
       "      <th>53</th>\n",
       "      <td>3</td>\n",
       "    </tr>\n",
       "    <tr>\n",
       "      <th>57</th>\n",
       "      <td>8</td>\n",
       "    </tr>\n",
       "    <tr>\n",
       "      <th>58</th>\n",
       "      <td>6</td>\n",
       "    </tr>\n",
       "    <tr>\n",
       "      <th>62</th>\n",
       "      <td>4</td>\n",
       "    </tr>\n",
       "    <tr>\n",
       "      <th>69</th>\n",
       "      <td>7</td>\n",
       "    </tr>\n",
       "    <tr>\n",
       "      <th>74</th>\n",
       "      <td>5</td>\n",
       "    </tr>\n",
       "    <tr>\n",
       "      <th>76</th>\n",
       "      <td>1</td>\n",
       "    </tr>\n",
       "    <tr>\n",
       "      <th>78</th>\n",
       "      <td>1</td>\n",
       "    </tr>\n",
       "    <tr>\n",
       "      <th>79</th>\n",
       "      <td>23</td>\n",
       "    </tr>\n",
       "    <tr>\n",
       "      <th>80</th>\n",
       "      <td>9</td>\n",
       "    </tr>\n",
       "    <tr>\n",
       "      <th>84</th>\n",
       "      <td>2</td>\n",
       "    </tr>\n",
       "    <tr>\n",
       "      <th>...</th>\n",
       "      <td>...</td>\n",
       "    </tr>\n",
       "    <tr>\n",
       "      <th>1065475</th>\n",
       "      <td>1</td>\n",
       "    </tr>\n",
       "    <tr>\n",
       "      <th>1065478</th>\n",
       "      <td>22</td>\n",
       "    </tr>\n",
       "    <tr>\n",
       "      <th>1065484</th>\n",
       "      <td>1</td>\n",
       "    </tr>\n",
       "    <tr>\n",
       "      <th>1065498</th>\n",
       "      <td>1</td>\n",
       "    </tr>\n",
       "    <tr>\n",
       "      <th>1065499</th>\n",
       "      <td>3</td>\n",
       "    </tr>\n",
       "    <tr>\n",
       "      <th>1065500</th>\n",
       "      <td>3</td>\n",
       "    </tr>\n",
       "    <tr>\n",
       "      <th>1065501</th>\n",
       "      <td>7</td>\n",
       "    </tr>\n",
       "    <tr>\n",
       "      <th>1065507</th>\n",
       "      <td>14</td>\n",
       "    </tr>\n",
       "    <tr>\n",
       "      <th>1065518</th>\n",
       "      <td>1</td>\n",
       "    </tr>\n",
       "    <tr>\n",
       "      <th>1065527</th>\n",
       "      <td>6</td>\n",
       "    </tr>\n",
       "    <tr>\n",
       "      <th>1065530</th>\n",
       "      <td>2</td>\n",
       "    </tr>\n",
       "    <tr>\n",
       "      <th>1065532</th>\n",
       "      <td>15</td>\n",
       "    </tr>\n",
       "    <tr>\n",
       "      <th>1065533</th>\n",
       "      <td>9</td>\n",
       "    </tr>\n",
       "    <tr>\n",
       "      <th>1065534</th>\n",
       "      <td>11</td>\n",
       "    </tr>\n",
       "    <tr>\n",
       "      <th>1065539</th>\n",
       "      <td>5</td>\n",
       "    </tr>\n",
       "    <tr>\n",
       "      <th>1065543</th>\n",
       "      <td>21</td>\n",
       "    </tr>\n",
       "    <tr>\n",
       "      <th>1065545</th>\n",
       "      <td>1</td>\n",
       "    </tr>\n",
       "    <tr>\n",
       "      <th>1065549</th>\n",
       "      <td>9</td>\n",
       "    </tr>\n",
       "    <tr>\n",
       "      <th>1065551</th>\n",
       "      <td>8</td>\n",
       "    </tr>\n",
       "    <tr>\n",
       "      <th>1065552</th>\n",
       "      <td>11</td>\n",
       "    </tr>\n",
       "    <tr>\n",
       "      <th>1065554</th>\n",
       "      <td>3</td>\n",
       "    </tr>\n",
       "    <tr>\n",
       "      <th>1065555</th>\n",
       "      <td>8</td>\n",
       "    </tr>\n",
       "    <tr>\n",
       "      <th>1065556</th>\n",
       "      <td>27</td>\n",
       "    </tr>\n",
       "    <tr>\n",
       "      <th>1065564</th>\n",
       "      <td>3</td>\n",
       "    </tr>\n",
       "    <tr>\n",
       "      <th>1065565</th>\n",
       "      <td>5</td>\n",
       "    </tr>\n",
       "    <tr>\n",
       "      <th>1065571</th>\n",
       "      <td>8</td>\n",
       "    </tr>\n",
       "    <tr>\n",
       "      <th>1065572</th>\n",
       "      <td>3</td>\n",
       "    </tr>\n",
       "    <tr>\n",
       "      <th>1065575</th>\n",
       "      <td>3</td>\n",
       "    </tr>\n",
       "    <tr>\n",
       "      <th>1065576</th>\n",
       "      <td>6</td>\n",
       "    </tr>\n",
       "    <tr>\n",
       "      <th>1065582</th>\n",
       "      <td>1</td>\n",
       "    </tr>\n",
       "  </tbody>\n",
       "</table>\n",
       "<p>349689 rows × 1 columns</p>\n",
       "</div>"
      ],
      "text/plain": [
       "         distance\n",
       "userid           \n",
       "1              13\n",
       "2               2\n",
       "3              19\n",
       "5              11\n",
       "9               8\n",
       "10              5\n",
       "13             13\n",
       "14              3\n",
       "15              1\n",
       "17             10\n",
       "26              9\n",
       "32             40\n",
       "33             48\n",
       "34              9\n",
       "38             19\n",
       "43              1\n",
       "46              2\n",
       "48              9\n",
       "52              3\n",
       "53              3\n",
       "57              8\n",
       "58              6\n",
       "62              4\n",
       "69              7\n",
       "74              5\n",
       "76              1\n",
       "78              1\n",
       "79             23\n",
       "80              9\n",
       "84              2\n",
       "...           ...\n",
       "1065475         1\n",
       "1065478        22\n",
       "1065484         1\n",
       "1065498         1\n",
       "1065499         3\n",
       "1065500         3\n",
       "1065501         7\n",
       "1065507        14\n",
       "1065518         1\n",
       "1065527         6\n",
       "1065530         2\n",
       "1065532        15\n",
       "1065533         9\n",
       "1065534        11\n",
       "1065539         5\n",
       "1065543        21\n",
       "1065545         1\n",
       "1065549         9\n",
       "1065551         8\n",
       "1065552        11\n",
       "1065554         3\n",
       "1065555         8\n",
       "1065556        27\n",
       "1065564         3\n",
       "1065565         5\n",
       "1065571         8\n",
       "1065572         3\n",
       "1065575         3\n",
       "1065576         6\n",
       "1065582         1\n",
       "\n",
       "[349689 rows x 1 columns]"
      ]
     },
     "execution_count": 50,
     "metadata": {},
     "output_type": "execute_result"
    }
   ],
   "source": [
    "data.iloc[ss, :].pivot_table(index='userid',\n",
    "                             values='distance',\n",
    "                             aggfunc='median')\n",
    "data.iloc[ss, :].pivot_table(index='userid',\n",
    "                             values='distance',\n",
    "                             aggfunc='mean')\n",
    "data.iloc[ss, :].pivot_table(index='userid',\n",
    "                             values='distance',\n",
    "                             aggfunc='count')"
   ]
  }
 ],
 "metadata": {
  "hide_input": false,
  "kernelspec": {
   "display_name": "Python 3",
   "language": "python",
   "name": "python3"
  },
  "language_info": {
   "codemirror_mode": {
    "name": "ipython",
    "version": 3
   },
   "file_extension": ".py",
   "mimetype": "text/x-python",
   "name": "python",
   "nbconvert_exporter": "python",
   "pygments_lexer": "ipython3",
   "version": "3.6.4rc1"
  },
  "latex_envs": {
   "LaTeX_envs_menu_present": true,
   "autoclose": false,
   "autocomplete": true,
   "bibliofile": "biblio.bib",
   "cite_by": "apalike",
   "current_citInitial": 1,
   "eqLabelWithNumbers": true,
   "eqNumInitial": 1,
   "hotkeys": {
    "equation": "Ctrl-E",
    "itemize": "Ctrl-I"
   },
   "labels_anchors": false,
   "latex_user_defs": false,
   "report_style_numbering": false,
   "user_envs_cfg": false
  },
  "toc": {
   "base_numbering": 1,
   "nav_menu": {},
   "number_sections": true,
   "sideBar": true,
   "skip_h1_title": false,
   "title_cell": "Table of Contents",
   "title_sidebar": "Contents",
   "toc_cell": false,
   "toc_position": {},
   "toc_section_display": true,
   "toc_window_display": false
  },
  "varInspector": {
   "cols": {
    "lenName": 16,
    "lenType": 16,
    "lenVar": 40
   },
   "kernels_config": {
    "python": {
     "delete_cmd_postfix": "",
     "delete_cmd_prefix": "del ",
     "library": "var_list.py",
     "varRefreshCmd": "print(var_dic_list())"
    },
    "r": {
     "delete_cmd_postfix": ") ",
     "delete_cmd_prefix": "rm(",
     "library": "var_list.r",
     "varRefreshCmd": "cat(var_dic_list()) "
    }
   },
   "position": {
    "height": "144px",
    "left": "1158.4px",
    "right": "20px",
    "top": "93px",
    "width": "350px"
   },
   "types_to_exclude": [
    "module",
    "function",
    "builtin_function_or_method",
    "instance",
    "_Feature"
   ],
   "window_display": false
  }
 },
 "nbformat": 4,
 "nbformat_minor": 2
}
