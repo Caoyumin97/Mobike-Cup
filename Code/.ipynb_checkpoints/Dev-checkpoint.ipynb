{
 "cells": [
  {
   "cell_type": "markdown",
   "metadata": {},
   "source": [
    "# Libraries"
   ]
  },
  {
   "cell_type": "code",
   "execution_count": 27,
   "metadata": {
    "ExecuteTime": {
     "end_time": "2020-02-23T05:38:23.749116Z",
     "start_time": "2020-02-23T05:38:23.745095Z"
    }
   },
   "outputs": [],
   "source": [
    "import os\n",
    "import re\n",
    "\n",
    "import pandas as pd\n",
    "from geohash import decode_exactly as dec_exa_fn,decode as dec_fn"
   ]
  },
  {
   "cell_type": "code",
   "execution_count": 2,
   "metadata": {
    "ExecuteTime": {
     "end_time": "2020-02-23T05:23:42.358476Z",
     "start_time": "2020-02-23T05:23:39.551977Z"
    }
   },
   "outputs": [],
   "source": [
    "data = pd.read_csv('../Data/train.csv')"
   ]
  },
  {
   "cell_type": "code",
   "execution_count": 78,
   "metadata": {
    "ExecuteTime": {
     "end_time": "2020-02-23T05:59:45.614687Z",
     "start_time": "2020-02-23T05:59:39.651664Z"
    }
   },
   "outputs": [],
   "source": [
    "data['defix_start'] = data['geohashed_start_loc'].map(lambda x:defix(x))\n",
    "data['defix_end'] = data['geohashed_end_loc'].map(lambda x:defix(x))"
   ]
  },
  {
   "cell_type": "code",
   "execution_count": 79,
   "metadata": {
    "ExecuteTime": {
     "end_time": "2020-02-23T05:59:46.861298Z",
     "start_time": "2020-02-23T05:59:46.851327Z"
    }
   },
   "outputs": [
    {
     "data": {
      "text/html": [
       "<div>\n",
       "<style scoped>\n",
       "    .dataframe tbody tr th:only-of-type {\n",
       "        vertical-align: middle;\n",
       "    }\n",
       "\n",
       "    .dataframe tbody tr th {\n",
       "        vertical-align: top;\n",
       "    }\n",
       "\n",
       "    .dataframe thead th {\n",
       "        text-align: right;\n",
       "    }\n",
       "</style>\n",
       "<table border=\"1\" class=\"dataframe\">\n",
       "  <thead>\n",
       "    <tr style=\"text-align: right;\">\n",
       "      <th></th>\n",
       "      <th>orderid</th>\n",
       "      <th>userid</th>\n",
       "      <th>bikeid</th>\n",
       "      <th>biketype</th>\n",
       "      <th>starttime</th>\n",
       "      <th>geohashed_start_loc</th>\n",
       "      <th>geohashed_end_loc</th>\n",
       "      <th>defix_start</th>\n",
       "      <th>defix_end</th>\n",
       "    </tr>\n",
       "  </thead>\n",
       "  <tbody>\n",
       "    <tr>\n",
       "      <th>0</th>\n",
       "      <td>1893973</td>\n",
       "      <td>451147</td>\n",
       "      <td>210617</td>\n",
       "      <td>2</td>\n",
       "      <td>2017-05-14 22:16:50</td>\n",
       "      <td>wx4snhx</td>\n",
       "      <td>wx4snhj</td>\n",
       "      <td>x4snhx</td>\n",
       "      <td>x4snhj</td>\n",
       "    </tr>\n",
       "    <tr>\n",
       "      <th>1</th>\n",
       "      <td>4657992</td>\n",
       "      <td>1061133</td>\n",
       "      <td>465394</td>\n",
       "      <td>1</td>\n",
       "      <td>2017-05-14 22:16:52</td>\n",
       "      <td>wx4dr59</td>\n",
       "      <td>wx4dquz</td>\n",
       "      <td>x4dr59</td>\n",
       "      <td>x4dquz</td>\n",
       "    </tr>\n",
       "    <tr>\n",
       "      <th>2</th>\n",
       "      <td>2965085</td>\n",
       "      <td>549189</td>\n",
       "      <td>310572</td>\n",
       "      <td>1</td>\n",
       "      <td>2017-05-14 22:16:51</td>\n",
       "      <td>wx4fgur</td>\n",
       "      <td>wx4fu5n</td>\n",
       "      <td>x4fgur</td>\n",
       "      <td>x4fu5n</td>\n",
       "    </tr>\n",
       "    <tr>\n",
       "      <th>3</th>\n",
       "      <td>4548579</td>\n",
       "      <td>489720</td>\n",
       "      <td>456688</td>\n",
       "      <td>1</td>\n",
       "      <td>2017-05-14 22:16:51</td>\n",
       "      <td>wx4d5r5</td>\n",
       "      <td>wx4d5r4</td>\n",
       "      <td>x4d5r5</td>\n",
       "      <td>x4d5r4</td>\n",
       "    </tr>\n",
       "    <tr>\n",
       "      <th>4</th>\n",
       "      <td>3936364</td>\n",
       "      <td>467449</td>\n",
       "      <td>403224</td>\n",
       "      <td>1</td>\n",
       "      <td>2017-05-14 22:16:50</td>\n",
       "      <td>wx4g27p</td>\n",
       "      <td>wx4g266</td>\n",
       "      <td>x4g27p</td>\n",
       "      <td>x4g266</td>\n",
       "    </tr>\n",
       "  </tbody>\n",
       "</table>\n",
       "</div>"
      ],
      "text/plain": [
       "   orderid   userid  bikeid  biketype            starttime  \\\n",
       "0  1893973   451147  210617         2  2017-05-14 22:16:50   \n",
       "1  4657992  1061133  465394         1  2017-05-14 22:16:52   \n",
       "2  2965085   549189  310572         1  2017-05-14 22:16:51   \n",
       "3  4548579   489720  456688         1  2017-05-14 22:16:51   \n",
       "4  3936364   467449  403224         1  2017-05-14 22:16:50   \n",
       "\n",
       "  geohashed_start_loc geohashed_end_loc defix_start defix_end  \n",
       "0             wx4snhx           wx4snhj      x4snhx    x4snhj  \n",
       "1             wx4dr59           wx4dquz      x4dr59    x4dquz  \n",
       "2             wx4fgur           wx4fu5n      x4fgur    x4fu5n  \n",
       "3             wx4d5r5           wx4d5r4      x4d5r5    x4d5r4  \n",
       "4             wx4g27p           wx4g266      x4g27p    x4g266  "
      ]
     },
     "execution_count": 79,
     "metadata": {},
     "output_type": "execute_result"
    }
   ],
   "source": [
    "data.head()"
   ]
  },
  {
   "cell_type": "code",
   "execution_count": 75,
   "metadata": {
    "ExecuteTime": {
     "end_time": "2020-02-23T05:58:50.434210Z",
     "start_time": "2020-02-23T05:58:50.430186Z"
    }
   },
   "outputs": [],
   "source": [
    "def defix(x):\n",
    "    groups = re.match(\"w(.*)\",x)\n",
    "    if groups == None:\n",
    "        print(x)\n",
    "        return -1\n",
    "    elif len(groups[1]) == 6:\n",
    "        return groups[1]"
   ]
  },
  {
   "cell_type": "code",
   "execution_count": 83,
   "metadata": {
    "ExecuteTime": {
     "end_time": "2020-02-23T06:04:03.680135Z",
     "start_time": "2020-02-23T06:04:00.784678Z"
    }
   },
   "outputs": [],
   "source": [
    "from collections import Counter\n",
    "\n",
    "orderID = Counter(data['orderid'])\n",
    "userID = Counter(data['userid'])\n",
    "bikeID = Counter(data['bikeid'])\n",
    "bikeType = Counter(data['biketype'])"
   ]
  },
  {
   "cell_type": "code",
   "execution_count": 86,
   "metadata": {
    "ExecuteTime": {
     "end_time": "2020-02-23T06:05:48.296555Z",
     "start_time": "2020-02-23T06:05:48.291569Z"
    }
   },
   "outputs": [
    {
     "data": {
      "text/plain": [
       "(3214096, 9, 6, 2)"
      ]
     },
     "execution_count": 86,
     "metadata": {},
     "output_type": "execute_result"
    }
   ],
   "source": [
    "len(orderID),int(len(orderID)/len(userID)),int(len(orderID)/len(bikeID)),len(bikeType)"
   ]
  },
  {
   "cell_type": "code",
   "execution_count": 104,
   "metadata": {
    "ExecuteTime": {
     "end_time": "2020-02-23T08:14:37.457675Z",
     "start_time": "2020-02-23T08:14:37.451692Z"
    }
   },
   "outputs": [],
   "source": [
    "def char_len(col):\n",
    "    vocab_list = []\n",
    "    char_list = []\n",
    "    for ind,i in enumerate(data[col]):\n",
    "        char_list.append(list(i))\n",
    "\n",
    "    char_df = pd.DataFrame(char_list)\n",
    "\n",
    "    for i in range(6):\n",
    "        print(len(Counter(char_df[i])))\n",
    "        vocab_list.append(Counter(char_df[i]))\n",
    "    return vocab_list"
   ]
  },
  {
   "cell_type": "code",
   "execution_count": 107,
   "metadata": {
    "ExecuteTime": {
     "end_time": "2020-02-23T08:15:32.203257Z",
     "start_time": "2020-02-23T08:15:17.008879Z"
    }
   },
   "outputs": [
    {
     "name": "stdout",
     "output_type": "stream",
     "text": [
      "9\n",
      "24\n",
      "31\n",
      "32\n",
      "32\n",
      "32\n",
      "9\n",
      "23\n",
      "31\n",
      "32\n",
      "32\n",
      "32\n"
     ]
    }
   ],
   "source": [
    "start_vocab = char_len('defix_start')\n",
    "end_vocab = char_len('defix_end')"
   ]
  },
  {
   "cell_type": "code",
   "execution_count": 109,
   "metadata": {
    "ExecuteTime": {
     "end_time": "2020-02-23T08:16:02.164430Z",
     "start_time": "2020-02-23T08:16:02.159448Z"
    }
   },
   "outputs": [
    {
     "data": {
      "text/plain": [
       "dict_keys(['x', 's', 't', 'm', 'w', 'q', 'e', 'k', '7'])"
      ]
     },
     "execution_count": 109,
     "metadata": {},
     "output_type": "execute_result"
    }
   ],
   "source": [
    "start_vocab[0].keys()"
   ]
  }
 ],
 "metadata": {
  "hide_input": false,
  "kernelspec": {
   "display_name": "Python 3",
   "language": "python",
   "name": "python3"
  },
  "language_info": {
   "codemirror_mode": {
    "name": "ipython",
    "version": 3
   },
   "file_extension": ".py",
   "mimetype": "text/x-python",
   "name": "python",
   "nbconvert_exporter": "python",
   "pygments_lexer": "ipython3",
   "version": "3.6.4rc1"
  },
  "latex_envs": {
   "LaTeX_envs_menu_present": true,
   "autoclose": false,
   "autocomplete": true,
   "bibliofile": "biblio.bib",
   "cite_by": "apalike",
   "current_citInitial": 1,
   "eqLabelWithNumbers": true,
   "eqNumInitial": 1,
   "hotkeys": {
    "equation": "Ctrl-E",
    "itemize": "Ctrl-I"
   },
   "labels_anchors": false,
   "latex_user_defs": false,
   "report_style_numbering": false,
   "user_envs_cfg": false
  },
  "toc": {
   "base_numbering": 1,
   "nav_menu": {},
   "number_sections": true,
   "sideBar": true,
   "skip_h1_title": false,
   "title_cell": "Table of Contents",
   "title_sidebar": "Contents",
   "toc_cell": false,
   "toc_position": {},
   "toc_section_display": true,
   "toc_window_display": false
  },
  "varInspector": {
   "cols": {
    "lenName": 16,
    "lenType": 16,
    "lenVar": 40
   },
   "kernels_config": {
    "python": {
     "delete_cmd_postfix": "",
     "delete_cmd_prefix": "del ",
     "library": "var_list.py",
     "varRefreshCmd": "print(var_dic_list())"
    },
    "r": {
     "delete_cmd_postfix": ") ",
     "delete_cmd_prefix": "rm(",
     "library": "var_list.r",
     "varRefreshCmd": "cat(var_dic_list()) "
    }
   },
   "types_to_exclude": [
    "module",
    "function",
    "builtin_function_or_method",
    "instance",
    "_Feature"
   ],
   "window_display": false
  }
 },
 "nbformat": 4,
 "nbformat_minor": 2
}
