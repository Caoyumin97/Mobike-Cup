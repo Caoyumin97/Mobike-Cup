{
 "cells": [
  {
   "cell_type": "markdown",
   "metadata": {},
   "source": [
    "# Libraries"
   ]
  },
  {
   "cell_type": "code",
   "execution_count": 34,
   "metadata": {
    "ExecuteTime": {
     "end_time": "2020-02-29T04:01:36.802808Z",
     "start_time": "2020-02-29T04:01:36.792867Z"
    }
   },
   "outputs": [],
   "source": [
    "import os\n",
    "import warnings\n",
    "warnings.filterwarnings(\"ignore\")\n",
    "from collections import Counter\n",
    "\n",
    "import numpy as np\n",
    "import pandas as pd\n",
    "import matplotlib.pyplot as plt\n",
    "import seaborn as sns\n",
    "%matplotlib inline\n",
    "\n",
    "from sklearn.model_selection import train_test_split\n",
    "from scipy import stats"
   ]
  },
  {
   "cell_type": "markdown",
   "metadata": {},
   "source": [
    "# Load Data"
   ]
  },
  {
   "cell_type": "code",
   "execution_count": 2,
   "metadata": {
    "ExecuteTime": {
     "end_time": "2020-02-29T03:36:19.131023Z",
     "start_time": "2020-02-29T03:36:12.885714Z"
    }
   },
   "outputs": [],
   "source": [
    "usr_prof = pd.read_csv('../Data/usrProfile.csv')\n",
    "Data = pd.read_csv('../Data/Train_Set.csv')"
   ]
  },
  {
   "cell_type": "code",
   "execution_count": 5,
   "metadata": {
    "ExecuteTime": {
     "end_time": "2020-02-29T03:38:53.262907Z",
     "start_time": "2020-02-29T03:38:53.083388Z"
    }
   },
   "outputs": [],
   "source": [
    "X = Data[['orderid','userid','bikeid','biketype',\n",
    "          'starttime','start_lat','start_lon',\n",
    "          'distance','hour','cont_time','distance_bins']]\n",
    "y = Data[['end_lat','end_lon']]"
   ]
  },
  {
   "cell_type": "code",
   "execution_count": 56,
   "metadata": {
    "ExecuteTime": {
     "end_time": "2020-02-29T04:30:22.329858Z",
     "start_time": "2020-02-29T04:30:20.782000Z"
    }
   },
   "outputs": [],
   "source": [
    "X_train, X_test, y_train, y_test = train_test_split(X,\n",
    "                                                    y,\n",
    "                                                    test_size=0.5,\n",
    "                                                    random_state=2020)"
   ]
  },
  {
   "cell_type": "markdown",
   "metadata": {
    "ExecuteTime": {
     "end_time": "2020-02-29T03:59:27.095064Z",
     "start_time": "2020-02-29T03:59:27.091066Z"
    }
   },
   "source": [
    "# User Profiling"
   ]
  },
  {
   "cell_type": "code",
   "execution_count": 57,
   "metadata": {
    "ExecuteTime": {
     "end_time": "2020-02-29T04:32:56.097226Z",
     "start_time": "2020-02-29T04:30:26.334628Z"
    },
    "scrolled": false
   },
   "outputs": [],
   "source": [
    "dist_hour_count = X_train.pivot_table(index='userid',\n",
    "                                      values='distance',\n",
    "                                      aggfunc='count').reset_index()\n",
    "dist_hour_stats = X_train.pivot_table(\n",
    "    index='userid',\n",
    "    values=['distance', 'hour'],\n",
    "    aggfunc=['max', 'min', 'median', 'mean', 'std']).reset_index()\n",
    "\n",
    "\n",
    "def mode(x):\n",
    "    return stats.mode(x)[0][0]\n",
    "\n",
    "\n",
    "def mode_cnt(x):\n",
    "    return stats.mode(x)[1][0]\n",
    "\n",
    "\n",
    "# hour\n",
    "hour_mode = X_train.pivot_table(index='userid', values='hour',\n",
    "                                aggfunc=mode).reset_index()\n",
    "hour_mode_cnt = X_train.pivot_table(index='userid',\n",
    "                                    values='hour',\n",
    "                                    aggfunc=mode_cnt).reset_index()\n",
    "\n",
    "# distance bins\n",
    "dist_bins_mode = X_train.pivot_table(index='userid',\n",
    "                                     values='distance_bins',\n",
    "                                     aggfunc=mode).reset_index()\n",
    "dist_bins_mode_cnt = X_train.pivot_table(index='userid',\n",
    "                                         values='distance_bins',\n",
    "                                         aggfunc=mode_cnt).reset_index()\n",
    "\n",
    "# coordinates\n",
    "coord_center = X_train.pivot_table(index='userid',\n",
    "                                   values=['start_lat', 'start_lon'],\n",
    "                                   aggfunc=['mean', 'std']).reset_index()"
   ]
  },
  {
   "cell_type": "code",
   "execution_count": 58,
   "metadata": {
    "ExecuteTime": {
     "end_time": "2020-02-29T04:32:56.908999Z",
     "start_time": "2020-02-29T04:32:56.099198Z"
    }
   },
   "outputs": [],
   "source": [
    "from functools import reduce\n",
    "\n",
    "dfs = [dist_hour_count, dist_hour_stats, hour_mode, hour_mode_cnt,\n",
    "       dist_bins_mode, dist_bins_mode_cnt, coord_center]\n",
    "\n",
    "usr_prof = reduce(lambda left,right: pd.merge(left,right,on='userid'), dfs)"
   ]
  },
  {
   "cell_type": "code",
   "execution_count": 59,
   "metadata": {
    "ExecuteTime": {
     "end_time": "2020-02-29T04:32:56.921998Z",
     "start_time": "2020-02-29T04:32:56.910993Z"
    }
   },
   "outputs": [],
   "source": [
    "usr_prof.columns = ['userid','count','maxDist','maxHour',\n",
    "                    'minDist','minHour','medDist','medHour',\n",
    "                    'meanDist','meanHour','stdDist','stdHour',\n",
    "                    'modeHour','modeHourCount','modeDistBins','modeDistBinsCount',\n",
    "                    'coordCenterLat','coordCenterLon','coordStdLat','coordStdLon']\n",
    "\n",
    "usr_prof['modeHourRatio'] = usr_prof['modeHourCount'] / usr_prof['count']\n",
    "usr_prof['modeDistBinsRatio'] = usr_prof['modeDistBinsCount'] / usr_prof['count']"
   ]
  },
  {
   "cell_type": "code",
   "execution_count": 60,
   "metadata": {
    "ExecuteTime": {
     "end_time": "2020-02-29T04:32:56.942939Z",
     "start_time": "2020-02-29T04:32:56.922993Z"
    },
    "scrolled": true
   },
   "outputs": [
    {
     "data": {
      "text/html": [
       "<div>\n",
       "<style scoped>\n",
       "    .dataframe tbody tr th:only-of-type {\n",
       "        vertical-align: middle;\n",
       "    }\n",
       "\n",
       "    .dataframe tbody tr th {\n",
       "        vertical-align: top;\n",
       "    }\n",
       "\n",
       "    .dataframe thead th {\n",
       "        text-align: right;\n",
       "    }\n",
       "</style>\n",
       "<table border=\"1\" class=\"dataframe\">\n",
       "  <thead>\n",
       "    <tr style=\"text-align: right;\">\n",
       "      <th></th>\n",
       "      <th>userid</th>\n",
       "      <th>count</th>\n",
       "      <th>maxDist</th>\n",
       "      <th>maxHour</th>\n",
       "      <th>minDist</th>\n",
       "      <th>minHour</th>\n",
       "      <th>medDist</th>\n",
       "      <th>medHour</th>\n",
       "      <th>meanDist</th>\n",
       "      <th>meanHour</th>\n",
       "      <th>...</th>\n",
       "      <th>modeHour</th>\n",
       "      <th>modeHourCount</th>\n",
       "      <th>modeDistBins</th>\n",
       "      <th>modeDistBinsCount</th>\n",
       "      <th>coordCenterLat</th>\n",
       "      <th>coordCenterLon</th>\n",
       "      <th>coordStdLat</th>\n",
       "      <th>coordStdLon</th>\n",
       "      <th>modeHourRatio</th>\n",
       "      <th>modeDistBinsRatio</th>\n",
       "    </tr>\n",
       "  </thead>\n",
       "  <tbody>\n",
       "    <tr>\n",
       "      <th>0</th>\n",
       "      <td>1</td>\n",
       "      <td>5</td>\n",
       "      <td>949.330649</td>\n",
       "      <td>17</td>\n",
       "      <td>279.600909</td>\n",
       "      <td>8</td>\n",
       "      <td>719.112698</td>\n",
       "      <td>8.0</td>\n",
       "      <td>664.268117</td>\n",
       "      <td>10.800000</td>\n",
       "      <td>...</td>\n",
       "      <td>8</td>\n",
       "      <td>3</td>\n",
       "      <td>2</td>\n",
       "      <td>4</td>\n",
       "      <td>39.919510</td>\n",
       "      <td>116.348099</td>\n",
       "      <td>0.002569</td>\n",
       "      <td>0.021487</td>\n",
       "      <td>0.600000</td>\n",
       "      <td>0.800000</td>\n",
       "    </tr>\n",
       "    <tr>\n",
       "      <th>1</th>\n",
       "      <td>2</td>\n",
       "      <td>1</td>\n",
       "      <td>327.080882</td>\n",
       "      <td>18</td>\n",
       "      <td>327.080882</td>\n",
       "      <td>18</td>\n",
       "      <td>327.080882</td>\n",
       "      <td>18.0</td>\n",
       "      <td>327.080882</td>\n",
       "      <td>18.000000</td>\n",
       "      <td>...</td>\n",
       "      <td>18</td>\n",
       "      <td>1</td>\n",
       "      <td>1</td>\n",
       "      <td>1</td>\n",
       "      <td>39.938736</td>\n",
       "      <td>116.461258</td>\n",
       "      <td>NaN</td>\n",
       "      <td>NaN</td>\n",
       "      <td>1.000000</td>\n",
       "      <td>1.000000</td>\n",
       "    </tr>\n",
       "    <tr>\n",
       "      <th>2</th>\n",
       "      <td>3</td>\n",
       "      <td>12</td>\n",
       "      <td>2468.042270</td>\n",
       "      <td>22</td>\n",
       "      <td>660.423121</td>\n",
       "      <td>8</td>\n",
       "      <td>731.269190</td>\n",
       "      <td>9.0</td>\n",
       "      <td>971.144149</td>\n",
       "      <td>12.666667</td>\n",
       "      <td>...</td>\n",
       "      <td>8</td>\n",
       "      <td>5</td>\n",
       "      <td>2</td>\n",
       "      <td>8</td>\n",
       "      <td>39.900856</td>\n",
       "      <td>116.320839</td>\n",
       "      <td>0.043567</td>\n",
       "      <td>0.041888</td>\n",
       "      <td>0.416667</td>\n",
       "      <td>0.666667</td>\n",
       "    </tr>\n",
       "    <tr>\n",
       "      <th>3</th>\n",
       "      <td>5</td>\n",
       "      <td>7</td>\n",
       "      <td>1566.851357</td>\n",
       "      <td>18</td>\n",
       "      <td>327.044707</td>\n",
       "      <td>10</td>\n",
       "      <td>558.804131</td>\n",
       "      <td>17.0</td>\n",
       "      <td>687.105640</td>\n",
       "      <td>15.285714</td>\n",
       "      <td>...</td>\n",
       "      <td>18</td>\n",
       "      <td>3</td>\n",
       "      <td>1</td>\n",
       "      <td>3</td>\n",
       "      <td>39.994452</td>\n",
       "      <td>116.482250</td>\n",
       "      <td>0.006768</td>\n",
       "      <td>0.003695</td>\n",
       "      <td>0.428571</td>\n",
       "      <td>0.428571</td>\n",
       "    </tr>\n",
       "    <tr>\n",
       "      <th>4</th>\n",
       "      <td>9</td>\n",
       "      <td>5</td>\n",
       "      <td>838.353915</td>\n",
       "      <td>19</td>\n",
       "      <td>743.106111</td>\n",
       "      <td>8</td>\n",
       "      <td>743.106111</td>\n",
       "      <td>12.0</td>\n",
       "      <td>762.155672</td>\n",
       "      <td>12.600000</td>\n",
       "      <td>...</td>\n",
       "      <td>8</td>\n",
       "      <td>2</td>\n",
       "      <td>2</td>\n",
       "      <td>5</td>\n",
       "      <td>39.974716</td>\n",
       "      <td>116.422531</td>\n",
       "      <td>0.002257</td>\n",
       "      <td>0.004165</td>\n",
       "      <td>0.400000</td>\n",
       "      <td>1.000000</td>\n",
       "    </tr>\n",
       "  </tbody>\n",
       "</table>\n",
       "<p>5 rows × 22 columns</p>\n",
       "</div>"
      ],
      "text/plain": [
       "   userid  count      maxDist  maxHour     minDist  minHour     medDist  \\\n",
       "0       1      5   949.330649       17  279.600909        8  719.112698   \n",
       "1       2      1   327.080882       18  327.080882       18  327.080882   \n",
       "2       3     12  2468.042270       22  660.423121        8  731.269190   \n",
       "3       5      7  1566.851357       18  327.044707       10  558.804131   \n",
       "4       9      5   838.353915       19  743.106111        8  743.106111   \n",
       "\n",
       "   medHour    meanDist   meanHour  ...  modeHour  modeHourCount  modeDistBins  \\\n",
       "0      8.0  664.268117  10.800000  ...         8              3             2   \n",
       "1     18.0  327.080882  18.000000  ...        18              1             1   \n",
       "2      9.0  971.144149  12.666667  ...         8              5             2   \n",
       "3     17.0  687.105640  15.285714  ...        18              3             1   \n",
       "4     12.0  762.155672  12.600000  ...         8              2             2   \n",
       "\n",
       "   modeDistBinsCount  coordCenterLat  coordCenterLon  coordStdLat  \\\n",
       "0                  4       39.919510      116.348099     0.002569   \n",
       "1                  1       39.938736      116.461258          NaN   \n",
       "2                  8       39.900856      116.320839     0.043567   \n",
       "3                  3       39.994452      116.482250     0.006768   \n",
       "4                  5       39.974716      116.422531     0.002257   \n",
       "\n",
       "   coordStdLon  modeHourRatio  modeDistBinsRatio  \n",
       "0     0.021487       0.600000           0.800000  \n",
       "1          NaN       1.000000           1.000000  \n",
       "2     0.041888       0.416667           0.666667  \n",
       "3     0.003695       0.428571           0.428571  \n",
       "4     0.004165       0.400000           1.000000  \n",
       "\n",
       "[5 rows x 22 columns]"
      ]
     },
     "execution_count": 60,
     "metadata": {},
     "output_type": "execute_result"
    }
   ],
   "source": [
    "usr_prof.head()"
   ]
  },
  {
   "cell_type": "code",
   "execution_count": 61,
   "metadata": {
    "ExecuteTime": {
     "end_time": "2020-02-29T04:32:57.424644Z",
     "start_time": "2020-02-29T04:32:56.943936Z"
    }
   },
   "outputs": [],
   "source": [
    "trainid = Counter(usr_prof['userid']).keys()\n",
    "testid = Counter(X_test['userid']).keys()"
   ]
  },
  {
   "cell_type": "code",
   "execution_count": 62,
   "metadata": {
    "ExecuteTime": {
     "end_time": "2020-02-29T04:32:57.575251Z",
     "start_time": "2020-02-29T04:32:57.426637Z"
    }
   },
   "outputs": [
    {
     "name": "stdout",
     "output_type": "stream",
     "text": [
      "Train set ids: 317699, Test set ids: 317574\n",
      "ids both in Train and Test set: 285583, ratio: 89.93%\n",
      "ids in Train not in Test set: 31991, ratio: 10.07%\n"
     ]
    }
   ],
   "source": [
    "print('Train set ids: {:d}, Test set ids: {:d}'.format(len(trainid),\n",
    "                                                       len(testid)))\n",
    "\n",
    "intersect_cnt = len(set(testid).intersection(set(trainid)))\n",
    "intersect_ratio = intersect_cnt / len(testid)\n",
    "diff_cnt = len(set(testid) - set(trainid))\n",
    "diff_ratio = diff_cnt / len(testid)\n",
    "\n",
    "print('ids both in Train and Test set: {:d}, ratio: {:.2f}%'.format(\n",
    "    intersect_cnt, 100 * intersect_ratio))\n",
    "print('ids in Train not in Test set: {:d}, ratio: {:.2f}%'.format(\n",
    "    diff_cnt, 100 * diff_ratio))"
   ]
  }
 ],
 "metadata": {
  "hide_input": false,
  "kernelspec": {
   "display_name": "Python 3",
   "language": "python",
   "name": "python3"
  },
  "language_info": {
   "codemirror_mode": {
    "name": "ipython",
    "version": 3
   },
   "file_extension": ".py",
   "mimetype": "text/x-python",
   "name": "python",
   "nbconvert_exporter": "python",
   "pygments_lexer": "ipython3",
   "version": "3.6.4rc1"
  },
  "latex_envs": {
   "LaTeX_envs_menu_present": true,
   "autoclose": false,
   "autocomplete": true,
   "bibliofile": "biblio.bib",
   "cite_by": "apalike",
   "current_citInitial": 1,
   "eqLabelWithNumbers": true,
   "eqNumInitial": 1,
   "hotkeys": {
    "equation": "Ctrl-E",
    "itemize": "Ctrl-I"
   },
   "labels_anchors": false,
   "latex_user_defs": false,
   "report_style_numbering": false,
   "user_envs_cfg": false
  },
  "toc": {
   "base_numbering": 1,
   "nav_menu": {},
   "number_sections": true,
   "sideBar": true,
   "skip_h1_title": false,
   "title_cell": "Table of Contents",
   "title_sidebar": "Contents",
   "toc_cell": false,
   "toc_position": {},
   "toc_section_display": true,
   "toc_window_display": false
  },
  "varInspector": {
   "cols": {
    "lenName": 16,
    "lenType": 16,
    "lenVar": 40
   },
   "kernels_config": {
    "python": {
     "delete_cmd_postfix": "",
     "delete_cmd_prefix": "del ",
     "library": "var_list.py",
     "varRefreshCmd": "print(var_dic_list())"
    },
    "r": {
     "delete_cmd_postfix": ") ",
     "delete_cmd_prefix": "rm(",
     "library": "var_list.r",
     "varRefreshCmd": "cat(var_dic_list()) "
    }
   },
   "types_to_exclude": [
    "module",
    "function",
    "builtin_function_or_method",
    "instance",
    "_Feature"
   ],
   "window_display": false
  }
 },
 "nbformat": 4,
 "nbformat_minor": 2
}
